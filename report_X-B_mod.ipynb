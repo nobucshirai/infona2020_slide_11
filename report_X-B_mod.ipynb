{
  "nbformat": 4,
  "nbformat_minor": 0,
  "metadata": {
    "colab": {
      "provenance": []
    },
    "kernelspec": {
      "name": "python3",
      "display_name": "Python 3"
    }
  },
  "cells": [
    {
      "cell_type": "markdown",
      "metadata": {
        "id": "jaeqy3WhYbK3"
      },
      "source": [
        "# 数値解析2020 レポート\n",
        "\n",
        "\n",
        "**X-B.**\n"
      ]
    },
    {
      "cell_type": "markdown",
      "metadata": {
        "id": "6oMty-RaogOy"
      },
      "source": [
        "以下Python3を用いたプログラム例を示す。"
      ]
    },
    {
      "cell_type": "code",
      "metadata": {
        "id": "mMdicca6YOfm",
        "colab": {
          "base_uri": "https://localhost:8080/"
        },
        "outputId": "773710f4-ad40-4cf0-9f03-6a77a85d2f65"
      },
      "source": [
        "# Pythonのバージョン確認\n",
        "import sys\n",
        "print(sys.version)"
      ],
      "execution_count": null,
      "outputs": [
        {
          "output_type": "stream",
          "text": [
            "3.6.9 (default, Oct  8 2020, 12:12:24) \n",
            "[GCC 8.4.0]\n"
          ],
          "name": "stdout"
        }
      ]
    },
    {
      "cell_type": "markdown",
      "metadata": {
        "id": "ktwZETqM-sR_"
      },
      "source": [
        "# 解答コード"
      ]
    },
    {
      "cell_type": "code",
      "metadata": {
        "id": "iDNKepPLwYti"
      },
      "source": [
        "import numpy as np\n",
        "\n",
        "n = 8\n",
        "\n",
        "h = np.array([111, 155, 146, 85, 216, 330, 225, 214])\n",
        "a = np.array([112, 193, 104, 29, 237, 190, 210, 300])\n",
        "d = np.array([ 96, 151, 114, 85, 186, 169, 210, 182])\n",
        "\n",
        "h_ave = 0\n",
        "a_ave = 0\n",
        "d_ave = 0\n",
        "for i in range(n):\n",
        "    h_ave += h[i]\n",
        "    a_ave += a[i]\n",
        "    d_ave += d[i]\n",
        "h_ave = h_ave / n\n",
        "a_ave = a_ave / n\n",
        "d_ave = d_ave / n\n",
        "\n",
        "s_h = 0\n",
        "s_a = 0\n",
        "s_d = 0\n",
        "for i in range(n):\n",
        "    s_h += h[i]**2\n",
        "    s_a += a[i]**2\n",
        "    s_d += d[i]**2\n",
        "s_h = np.sqrt((s_h - n*h_ave**2) / (n-1))\n",
        "s_a = np.sqrt((s_a - n*a_ave**2) / (n-1))\n",
        "s_d = np.sqrt((s_d - n*d_ave**2) / (n-1))"
      ],
      "execution_count": null,
      "outputs": []
    },
    {
      "cell_type": "code",
      "metadata": {
        "colab": {
          "base_uri": "https://localhost:8080/"
        },
        "id": "pMw0A0bAxP-0",
        "outputId": "09159ef6-332c-4893-8a25-64fb98ac9e40"
      },
      "source": [
        "H = np.zeros(n)\n",
        "A = np.zeros(n)\n",
        "D = np.zeros(n)\n",
        "\n",
        "for i in range(n):\n",
        "    H[i] = (h[i] - h_ave)/s_h\n",
        "    A[i] = (a[i] - a_ave)/s_a\n",
        "    D[i] = (d[i] - d_ave)/s_d\n",
        "\n",
        "print(H)\n",
        "print(A)\n",
        "print(D)"
      ],
      "execution_count": null,
      "outputs": [
        {
          "output_type": "stream",
          "text": [
            "[-0.95489296 -0.38903046 -0.50477507 -1.28926625  0.39546072  1.861559\n",
            "  0.51120532  0.3697397 ]\n",
            "[-0.69811892  0.24630918 -0.79139577 -1.66586624  0.75933186  0.21133036\n",
            "  0.44452249  1.49388705]\n",
            "[-1.1587752   0.04089795 -0.76615489 -1.39870982  0.80432631  0.43351825\n",
            "  1.32782005  0.71707736]\n"
          ],
          "name": "stdout"
        }
      ]
    },
    {
      "cell_type": "code",
      "metadata": {
        "id": "DSjGnc-EEB-l"
      },
      "source": [
        "y_1 = np.array([0.54847651, 0.57878772, 0.60347186])\n",
        "y_2 = np.array([-0.80399165, 0.5633186, 0.19044575])\n",
        "y_3 = np.array([-0.22971926, -0.58964136, 0.77430752])\n",
        "\n",
        "\n",
        "PC1 = np.zeros(n)\n",
        "PC2 = np.zeros(n)\n",
        "PC3 = np.zeros(n)\n",
        "\n",
        "for i in range(n):\n",
        "    PC1[i] = y_1[0] * H[i] + y_1[1] * A[i] + y_1[2] * D[i]\n",
        "    PC2[i] = y_2[0] * H[i] + y_2[1] * A[i] + y_2[2] * D[i]\n",
        "    PC3[i] = y_3[0] * H[i] + y_3[1] * A[i] + y_3[2] * D[i]\n",
        "\n",
        "print(PC1)\n",
        "print(PC2)\n",
        "print(PC3)"
      ],
      "execution_count": null,
      "outputs": []
    },
    {
      "cell_type": "code",
      "metadata": {
        "colab": {
          "base_uri": "https://localhost:8080/"
        },
        "id": "Ab9rjWWCxQh7",
        "outputId": "7e2e2e60-636b-42c7-b61a-6febded41150"
      },
      "source": [
        "params = 3\n",
        "y_1 = np.array([0.54847651, 0.57878772, 0.60347186])\n",
        "y_2 = np.array([-0.80399165, 0.5633186, 0.19044575])\n",
        "y_3 = np.array([-0.22971926, -0.58964136, 0.77430752])\n",
        "\n",
        "r = np.zeros(n * params)\n",
        "r = r.reshape(n, params)\n",
        "\n",
        "for i in range(n):\n",
        "    r[i][0] = H[i]\n",
        "    r[i][1] = A[i]\n",
        "    r[i][2] = D[i]\n",
        "\n",
        "PC1 = np.zeros(n)\n",
        "PC2 = np.zeros(n)\n",
        "PC3 = np.zeros(n)\n",
        "\n",
        "for i in range(n):\n",
        "    for j in range(params):\n",
        "        PC1[i] += y_1[j] * r[i][j]\n",
        "        PC2[i] += y_2[j] * r[i][j]\n",
        "        PC3[i] += y_3[j] * r[i][j]\n",
        "\n",
        "print(PC1)\n",
        "print(PC2)\n",
        "print(PC3)"
      ],
      "execution_count": null,
      "outputs": [
        {
          "output_type": "stream",
          "text": [
            "[[-0.95489296 -0.69811892 -1.1587752 ]\n",
            " [-0.38903046  0.24630918  0.04089795]\n",
            " [-0.50477507 -0.79139577 -0.76615489]\n",
            " [-1.28926625 -1.66586624 -1.39870982]\n",
            " [ 0.39546072  0.75933186  0.80432631]\n",
            " [ 1.861559    0.21133036  0.43351825]\n",
            " [ 0.51120532  0.44452249  1.32782005]\n",
            " [ 0.3697397   1.49388705  0.71707736]]\n",
            "[-1.62708724 -0.04613258 -1.19726034 -2.5153972   1.14178117  1.40495287\n",
            "  1.3389703   1.50017302]\n",
            "[ 0.15377878  0.45931663 -0.18588397 -0.16823248  0.26297917 -1.29506986\n",
            "  0.09228066  0.68083107]\n",
            "[-0.26625125 -0.0241987  -0.01064326  0.19540139  0.0842175  -0.21656864\n",
            "  0.6485985  -0.41055553]\n"
          ],
          "name": "stdout"
        }
      ]
    },
    {
      "cell_type": "code",
      "metadata": {
        "id": "8n8_x1h14RsF",
        "colab": {
          "base_uri": "https://localhost:8080/"
        },
        "outputId": "fb819b70-04ca-4e32-bca0-6a41a6e45953"
      },
      "source": [
        "params = 3\n",
        "y_1 = np.array([0.54847651, 0.57878772, 0.60347186])\n",
        "y_2 = np.array([-0.80399165, 0.5633186, 0.19044575])\n",
        "y_3 = np.array([-0.22971926, -0.58964136, 0.77430752])\n",
        "\n",
        "r = np.zeros(n * params)\n",
        "r = r.reshape(n, params)\n",
        "\n",
        "for i in range(n):\n",
        "    r[i][0] = H[i]\n",
        "    r[i][1] = A[i]\n",
        "    r[i][2] = D[i]\n",
        "\n",
        "PC1 = np.zeros(n)\n",
        "PC2 = np.zeros(n)\n",
        "PC3 = np.zeros(n)\n",
        "\n",
        "for i in range(n):\n",
        "    PC1[i] = np.dot(y_1, r[i])\n",
        "    PC2[i] = np.dot(y_2, r[i])\n",
        "    PC3[i] = np.dot(y_3, r[i])\n",
        "\n",
        "print(PC1)\n",
        "print(PC2)\n",
        "print(PC3)"
      ],
      "execution_count": null,
      "outputs": [
        {
          "output_type": "stream",
          "text": [
            "[-1.62708724 -0.04613258 -1.19726034 -2.5153972   1.14178117  1.40495287\n",
            "  1.3389703   1.50017302]\n",
            "[ 0.15377878  0.45931663 -0.18588397 -0.16823248  0.26297917 -1.29506986\n",
            "  0.09228066  0.68083107]\n",
            "[-0.26625125 -0.0241987  -0.01064326  0.19540139  0.0842175  -0.21656864\n",
            "  0.6485985  -0.41055553]\n"
          ],
          "name": "stdout"
        }
      ]
    },
    {
      "cell_type": "code",
      "metadata": {
        "id": "k__xq1WjG2Bd"
      },
      "source": [],
      "execution_count": null,
      "outputs": []
    }
  ]
}